{
 "cells": [
  {
   "cell_type": "code",
   "execution_count": 2,
   "id": "a98ece3c",
   "metadata": {
    "collapsed": true
   },
   "outputs": [],
   "source": [
    "import numpy as np\n",
    "import pandas as pd"
   ]
  },
  {
   "cell_type": "markdown",
   "id": "a03e7e76",
   "metadata": {},
   "source": [
    "# Création de Series et Dataframes pandas\n",
    "Ce sont les deux principaux types stockant des données en pandas. Ils sont constitués de données (un tableau numpy, une liste, etc...) et d'un index (par exemple des dates, un index numérique, ou toute liste d'éléments python arbitraires).\n",
    "\n",
    "Le principe fondamental de pandas est que ***toutes les opérations impliquant des Series ou des Dataframes respecteront l'alignement des index*** (sauf mention explicite de l'utilisateur). "
   ]
  },
  {
   "cell_type": "markdown",
   "id": "79985902",
   "metadata": {},
   "source": [
    "## Création de Series"
   ]
  },
  {
   "cell_type": "code",
   "execution_count": 3,
   "id": "95e34c7e",
   "metadata": {
    "collapsed": true
   },
   "outputs": [
    {
     "name": "stdout",
     "output_type": "stream",
     "text": [
      "Les données, un tableau numpy: [ 0.41669125 -0.41000768 -0.95576474  0.66501415  0.22580085]\n"
     ]
    },
    {
     "data": {
      "text/plain": [
       "a    0.416691\n",
       "b   -0.410008\n",
       "c   -0.955765\n",
       "d    0.665014\n",
       "e    0.225801\n",
       "dtype: float64"
      ]
     },
     "execution_count": 3,
     "metadata": {},
     "output_type": "execute_result"
    }
   ],
   "source": [
    "# à partir d'un tableau numpy et d'un index\n",
    "data = np.random.randn(5)\n",
    "print(\"Les données, un tableau numpy: %s\"%data)\n",
    "\n",
    "index = [\"a\", \"b\", \"c\", \"d\", \"e\"]\n",
    "\n",
    "s0 = pd.Series(data, index=index)\n",
    "s0"
   ]
  },
  {
   "cell_type": "code",
   "execution_count": 4,
   "id": "707b0d86",
   "metadata": {
    "collapsed": true
   },
   "outputs": [
    {
     "data": {
      "text/plain": [
       "b    1\n",
       "a    0\n",
       "c    2\n",
       "dtype: int64"
      ]
     },
     "execution_count": 4,
     "metadata": {},
     "output_type": "execute_result"
    }
   ],
   "source": [
    "# à partir d'un dictionnaire\n",
    "s1 = pd.Series({\"b\": 1, \"a\": 0, \"c\": 2})\n",
    "s1"
   ]
  },
  {
   "cell_type": "code",
   "execution_count": 5,
   "id": "1e1ff672",
   "metadata": {
    "collapsed": true
   },
   "outputs": [
    {
     "data": {
      "text/plain": [
       "a    5.0\n",
       "b    5.0\n",
       "c    5.0\n",
       "d    5.0\n",
       "e    5.0\n",
       "dtype: float64"
      ]
     },
     "execution_count": 5,
     "metadata": {},
     "output_type": "execute_result"
    }
   ],
   "source": [
    "# à partir d'un scalaire et d'un index\n",
    "s2 = pd.Series(5.0, index=[\"a\", \"b\", \"c\", \"d\", \"e\"])\n",
    "s2"
   ]
  },
  {
   "cell_type": "markdown",
   "id": "c3bff601",
   "metadata": {},
   "source": [
    "### Accès aux éléments d'une Series"
   ]
  },
  {
   "cell_type": "code",
   "execution_count": 8,
   "id": "af9ae310",
   "metadata": {},
   "outputs": [
    {
     "data": {
      "text/plain": [
       "0.4166912459827139"
      ]
     },
     "execution_count": 8,
     "metadata": {},
     "output_type": "execute_result"
    }
   ],
   "source": [
    "# accès par valeur de l'index\n",
    "s0[\"a\"]"
   ]
  },
  {
   "cell_type": "code",
   "execution_count": 6,
   "id": "570c1868",
   "metadata": {},
   "outputs": [
    {
     "data": {
      "text/plain": [
       "0.4166912459827139"
      ]
     },
     "execution_count": 6,
     "metadata": {},
     "output_type": "execute_result"
    }
   ],
   "source": [
    "# Par position dans la série (attention si l'index est entier c'est\n",
    "# l'index qui sera utilisé)\n",
    "s0[0]"
   ]
  },
  {
   "cell_type": "code",
   "execution_count": 7,
   "id": "66bfba21",
   "metadata": {
    "collapsed": true
   },
   "outputs": [
    {
     "data": {
      "text/plain": [
       "a    0.416691\n",
       "b   -0.410008\n",
       "c   -0.955765\n",
       "dtype: float64"
      ]
     },
     "execution_count": 7,
     "metadata": {},
     "output_type": "execute_result"
    }
   ],
   "source": [
    "# on peut faire du slicing sur les positions\n",
    "s0[:3]"
   ]
  },
  {
   "cell_type": "code",
   "execution_count": 9,
   "id": "a15b5da4",
   "metadata": {
    "collapsed": true
   },
   "outputs": [
    {
     "data": {
      "text/plain": [
       "a    0.416691\n",
       "b   -0.410008\n",
       "d    0.665014\n",
       "dtype: float64"
      ]
     },
     "execution_count": 9,
     "metadata": {},
     "output_type": "execute_result"
    }
   ],
   "source": [
    "# pour un sous-ensemble d'index\n",
    "s0[[\"a\",\"b\",\"d\"]]"
   ]
  },
  {
   "cell_type": "markdown",
   "id": "078fa17f",
   "metadata": {},
   "source": [
    "### Opérations sur les Series\n",
    "Les opérations sur les séries respectent toujours l'alignement des index"
   ]
  },
  {
   "cell_type": "code",
   "execution_count": 18,
   "id": "82ae8279",
   "metadata": {},
   "outputs": [
    {
     "data": {
      "text/plain": [
       "a    0.416691\n",
       "b    0.589992\n",
       "c    1.044235\n",
       "d         NaN\n",
       "e         NaN\n",
       "dtype: float64"
      ]
     },
     "execution_count": 18,
     "metadata": {},
     "output_type": "execute_result"
    }
   ],
   "source": [
    "s0+s1 # noter l'utilisation de NaN quand l'opération ne peut être réalisée\n",
    "      # faute de donnée dans les deux séries"
   ]
  },
  {
   "cell_type": "markdown",
   "id": "7e396c98",
   "metadata": {},
   "source": [
    "Les fonctions définies (\"ufunc\") par numpy peuvent toutes être appliquées aux Series (et aux Dataframes voir plus loin), voir leur [documentation sur le site de numpy](https://numpy.org/doc/stable/reference/ufuncs.html#available-ufuncs)"
   ]
  },
  {
   "cell_type": "code",
   "execution_count": 68,
   "id": "c9153192",
   "metadata": {},
   "outputs": [
    {
     "data": {
      "text/plain": [
       "a    1.516934\n",
       "b    0.663645\n",
       "c    0.384518\n",
       "d    1.944518\n",
       "e    1.253326\n",
       "dtype: float64"
      ]
     },
     "execution_count": 68,
     "metadata": {},
     "output_type": "execute_result"
    }
   ],
   "source": [
    "np.exp(s0)"
   ]
  },
  {
   "cell_type": "code",
   "execution_count": 17,
   "id": "6e2d4a79",
   "metadata": {},
   "outputs": [
    {
     "data": {
      "text/plain": [
       "a     True\n",
       "b    False\n",
       "c    False\n",
       "d     True\n",
       "e     True\n",
       "dtype: bool"
      ]
     },
     "execution_count": 17,
     "metadata": {},
     "output_type": "execute_result"
    }
   ],
   "source": [
    "s0 > 0"
   ]
  },
  {
   "cell_type": "markdown",
   "id": "04e654ef",
   "metadata": {},
   "source": [
    "En exercice, tester le résultat de ```s[1:]+s[:-1]```, jouer avec l'ensemble des opérations disponibles `+`,`*`,`**` (puissance), voir la doc pour plus d'informations."
   ]
  },
  {
   "cell_type": "markdown",
   "id": "51ba9f85",
   "metadata": {},
   "source": [
    "## Création de Dataframes"
   ]
  },
  {
   "cell_type": "code",
   "execution_count": 25,
   "id": "b9dd4a2c",
   "metadata": {},
   "outputs": [
    {
     "data": {
      "text/html": [
       "<div>\n",
       "<style scoped>\n",
       "    .dataframe tbody tr th:only-of-type {\n",
       "        vertical-align: middle;\n",
       "    }\n",
       "\n",
       "    .dataframe tbody tr th {\n",
       "        vertical-align: top;\n",
       "    }\n",
       "\n",
       "    .dataframe thead th {\n",
       "        text-align: right;\n",
       "    }\n",
       "</style>\n",
       "<table border=\"1\" class=\"dataframe\">\n",
       "  <thead>\n",
       "    <tr style=\"text-align: right;\">\n",
       "      <th></th>\n",
       "      <th>one</th>\n",
       "      <th>two</th>\n",
       "    </tr>\n",
       "  </thead>\n",
       "  <tbody>\n",
       "    <tr>\n",
       "      <th>a</th>\n",
       "      <td>0.416691</td>\n",
       "      <td>0.0</td>\n",
       "    </tr>\n",
       "    <tr>\n",
       "      <th>b</th>\n",
       "      <td>-0.410008</td>\n",
       "      <td>1.0</td>\n",
       "    </tr>\n",
       "    <tr>\n",
       "      <th>c</th>\n",
       "      <td>-0.955765</td>\n",
       "      <td>2.0</td>\n",
       "    </tr>\n",
       "    <tr>\n",
       "      <th>d</th>\n",
       "      <td>0.665014</td>\n",
       "      <td>NaN</td>\n",
       "    </tr>\n",
       "    <tr>\n",
       "      <th>e</th>\n",
       "      <td>0.225801</td>\n",
       "      <td>NaN</td>\n",
       "    </tr>\n",
       "  </tbody>\n",
       "</table>\n",
       "</div>"
      ],
      "text/plain": [
       "        one  two\n",
       "a  0.416691  0.0\n",
       "b -0.410008  1.0\n",
       "c -0.955765  2.0\n",
       "d  0.665014  NaN\n",
       "e  0.225801  NaN"
      ]
     },
     "execution_count": 25,
     "metadata": {},
     "output_type": "execute_result"
    }
   ],
   "source": [
    "# à partir d'un dictionnaire de séries\n",
    "d = {\n",
    "     \"one\": s0,\n",
    "     \"two\": s1\n",
    " }\n",
    "df = pd.DataFrame(d)\n",
    "df"
   ]
  },
  {
   "cell_type": "markdown",
   "id": "57c3cf93",
   "metadata": {},
   "source": [
    "Un DataFrame est un tableau composé d'un ensemble de Series possédant un index commun (l'index du DataFrame obtenu précédemment est la réunion des index des séries passées en argument de la méthode de création)"
   ]
  },
  {
   "cell_type": "code",
   "execution_count": 22,
   "id": "a32ea7fa",
   "metadata": {},
   "outputs": [
    {
     "data": {
      "text/html": [
       "<div>\n",
       "<style scoped>\n",
       "    .dataframe tbody tr th:only-of-type {\n",
       "        vertical-align: middle;\n",
       "    }\n",
       "\n",
       "    .dataframe tbody tr th {\n",
       "        vertical-align: top;\n",
       "    }\n",
       "\n",
       "    .dataframe thead th {\n",
       "        text-align: right;\n",
       "    }\n",
       "</style>\n",
       "<table border=\"1\" class=\"dataframe\">\n",
       "  <thead>\n",
       "    <tr style=\"text-align: right;\">\n",
       "      <th></th>\n",
       "      <th>one</th>\n",
       "      <th>two</th>\n",
       "    </tr>\n",
       "  </thead>\n",
       "  <tbody>\n",
       "    <tr>\n",
       "      <th>a</th>\n",
       "      <td>1.0</td>\n",
       "      <td>4.0</td>\n",
       "    </tr>\n",
       "    <tr>\n",
       "      <th>b</th>\n",
       "      <td>2.0</td>\n",
       "      <td>3.0</td>\n",
       "    </tr>\n",
       "    <tr>\n",
       "      <th>c</th>\n",
       "      <td>3.0</td>\n",
       "      <td>2.0</td>\n",
       "    </tr>\n",
       "    <tr>\n",
       "      <th>d</th>\n",
       "      <td>4.0</td>\n",
       "      <td>1.0</td>\n",
       "    </tr>\n",
       "  </tbody>\n",
       "</table>\n",
       "</div>"
      ],
      "text/plain": [
       "   one  two\n",
       "a  1.0  4.0\n",
       "b  2.0  3.0\n",
       "c  3.0  2.0\n",
       "d  4.0  1.0"
      ]
     },
     "execution_count": 22,
     "metadata": {},
     "output_type": "execute_result"
    }
   ],
   "source": [
    "# on peut aussi créer un DF à partir de listes\n",
    "# dans ce cas, par souci de cohérence, les listes doivent être de la même longueur\n",
    "pd.DataFrame({\"one\": [1.0, 2.0, 3.0, 4.0], \"two\": [4.0, 3.0, 2.0, 1.0]}, index=[\"a\",\"b\",\"c\",\"d\"])"
   ]
  },
  {
   "cell_type": "code",
   "execution_count": 23,
   "id": "0f2d1013",
   "metadata": {},
   "outputs": [
    {
     "data": {
      "text/html": [
       "<div>\n",
       "<style scoped>\n",
       "    .dataframe tbody tr th:only-of-type {\n",
       "        vertical-align: middle;\n",
       "    }\n",
       "\n",
       "    .dataframe tbody tr th {\n",
       "        vertical-align: top;\n",
       "    }\n",
       "\n",
       "    .dataframe thead th {\n",
       "        text-align: right;\n",
       "    }\n",
       "</style>\n",
       "<table border=\"1\" class=\"dataframe\">\n",
       "  <thead>\n",
       "    <tr style=\"text-align: right;\">\n",
       "      <th></th>\n",
       "      <th>one</th>\n",
       "      <th>two</th>\n",
       "    </tr>\n",
       "  </thead>\n",
       "  <tbody>\n",
       "    <tr>\n",
       "      <th>0</th>\n",
       "      <td>1.0</td>\n",
       "      <td>4.0</td>\n",
       "    </tr>\n",
       "    <tr>\n",
       "      <th>1</th>\n",
       "      <td>2.0</td>\n",
       "      <td>3.0</td>\n",
       "    </tr>\n",
       "    <tr>\n",
       "      <th>2</th>\n",
       "      <td>3.0</td>\n",
       "      <td>2.0</td>\n",
       "    </tr>\n",
       "    <tr>\n",
       "      <th>3</th>\n",
       "      <td>4.0</td>\n",
       "      <td>1.0</td>\n",
       "    </tr>\n",
       "  </tbody>\n",
       "</table>\n",
       "</div>"
      ],
      "text/plain": [
       "   one  two\n",
       "0  1.0  4.0\n",
       "1  2.0  3.0\n",
       "2  3.0  2.0\n",
       "3  4.0  1.0"
      ]
     },
     "execution_count": 23,
     "metadata": {},
     "output_type": "execute_result"
    }
   ],
   "source": [
    "# sans argument index un index numérique est créé automatiquement\n",
    "pd.DataFrame({\"one\": [1.0, 2.0, 3.0, 4.0], \"two\": [4.0, 3.0, 2.0, 1.0]})"
   ]
  },
  {
   "cell_type": "code",
   "execution_count": 24,
   "id": "54c7f9d5",
   "metadata": {},
   "outputs": [
    {
     "data": {
      "text/html": [
       "<div>\n",
       "<style scoped>\n",
       "    .dataframe tbody tr th:only-of-type {\n",
       "        vertical-align: middle;\n",
       "    }\n",
       "\n",
       "    .dataframe tbody tr th {\n",
       "        vertical-align: top;\n",
       "    }\n",
       "\n",
       "    .dataframe thead th {\n",
       "        text-align: right;\n",
       "    }\n",
       "</style>\n",
       "<table border=\"1\" class=\"dataframe\">\n",
       "  <thead>\n",
       "    <tr style=\"text-align: right;\">\n",
       "      <th></th>\n",
       "      <th>a</th>\n",
       "      <th>b</th>\n",
       "      <th>c</th>\n",
       "    </tr>\n",
       "  </thead>\n",
       "  <tbody>\n",
       "    <tr>\n",
       "      <th>0</th>\n",
       "      <td>1</td>\n",
       "      <td>2</td>\n",
       "      <td>NaN</td>\n",
       "    </tr>\n",
       "    <tr>\n",
       "      <th>1</th>\n",
       "      <td>5</td>\n",
       "      <td>10</td>\n",
       "      <td>20.0</td>\n",
       "    </tr>\n",
       "  </tbody>\n",
       "</table>\n",
       "</div>"
      ],
      "text/plain": [
       "   a   b     c\n",
       "0  1   2   NaN\n",
       "1  5  10  20.0"
      ]
     },
     "execution_count": 24,
     "metadata": {},
     "output_type": "execute_result"
    }
   ],
   "source": [
    "# depuis une liste de dictionnaires\n",
    "pd.DataFrame([{\"a\": 1, \"b\": 2}, {\"a\": 5, \"b\": 10, \"c\": 20}])"
   ]
  },
  {
   "cell_type": "markdown",
   "id": "2a12e96c",
   "metadata": {},
   "source": [
    "D'autres methodes de création existent, se référer au [chapitre correspondant du guide utilisateur](https://pandas.pydata.org/docs/user_guide/dsintro.html#dataframe)"
   ]
  },
  {
   "cell_type": "markdown",
   "id": "7ba4730e",
   "metadata": {},
   "source": [
    "### Ajout, modification, suppression de colonnes"
   ]
  },
  {
   "cell_type": "code",
   "execution_count": 27,
   "id": "1f8c3850",
   "metadata": {},
   "outputs": [
    {
     "data": {
      "text/html": [
       "<div>\n",
       "<style scoped>\n",
       "    .dataframe tbody tr th:only-of-type {\n",
       "        vertical-align: middle;\n",
       "    }\n",
       "\n",
       "    .dataframe tbody tr th {\n",
       "        vertical-align: top;\n",
       "    }\n",
       "\n",
       "    .dataframe thead th {\n",
       "        text-align: right;\n",
       "    }\n",
       "</style>\n",
       "<table border=\"1\" class=\"dataframe\">\n",
       "  <thead>\n",
       "    <tr style=\"text-align: right;\">\n",
       "      <th></th>\n",
       "      <th>one</th>\n",
       "      <th>two</th>\n",
       "    </tr>\n",
       "  </thead>\n",
       "  <tbody>\n",
       "    <tr>\n",
       "      <th>a</th>\n",
       "      <td>0.416691</td>\n",
       "      <td>0.0</td>\n",
       "    </tr>\n",
       "    <tr>\n",
       "      <th>b</th>\n",
       "      <td>-0.410008</td>\n",
       "      <td>1.0</td>\n",
       "    </tr>\n",
       "    <tr>\n",
       "      <th>c</th>\n",
       "      <td>-0.955765</td>\n",
       "      <td>2.0</td>\n",
       "    </tr>\n",
       "    <tr>\n",
       "      <th>d</th>\n",
       "      <td>0.665014</td>\n",
       "      <td>NaN</td>\n",
       "    </tr>\n",
       "    <tr>\n",
       "      <th>e</th>\n",
       "      <td>0.225801</td>\n",
       "      <td>NaN</td>\n",
       "    </tr>\n",
       "  </tbody>\n",
       "</table>\n",
       "</div>"
      ],
      "text/plain": [
       "        one  two\n",
       "a  0.416691  0.0\n",
       "b -0.410008  1.0\n",
       "c -0.955765  2.0\n",
       "d  0.665014  NaN\n",
       "e  0.225801  NaN"
      ]
     },
     "execution_count": 27,
     "metadata": {},
     "output_type": "execute_result"
    }
   ],
   "source": [
    "# Pour rappel\n",
    "df"
   ]
  },
  {
   "cell_type": "markdown",
   "id": "d35761fc",
   "metadata": {},
   "source": [
    "Les opérations d'ajout, modification, suppression fonctionnent sémantiquement comme les opérations correspondantes pour les dictionnaires python"
   ]
  },
  {
   "cell_type": "code",
   "execution_count": 26,
   "id": "73477ad1",
   "metadata": {},
   "outputs": [
    {
     "data": {
      "text/plain": [
       "a    0.416691\n",
       "b   -0.410008\n",
       "c   -0.955765\n",
       "d    0.665014\n",
       "e    0.225801\n",
       "Name: one, dtype: float64"
      ]
     },
     "execution_count": 26,
     "metadata": {},
     "output_type": "execute_result"
    }
   ],
   "source": [
    "# Accès à une colonne : on récupère une série\n",
    "df[\"one\"]"
   ]
  },
  {
   "cell_type": "code",
   "execution_count": 31,
   "id": "828dcb8c",
   "metadata": {},
   "outputs": [
    {
     "data": {
      "text/html": [
       "<div>\n",
       "<style scoped>\n",
       "    .dataframe tbody tr th:only-of-type {\n",
       "        vertical-align: middle;\n",
       "    }\n",
       "\n",
       "    .dataframe tbody tr th {\n",
       "        vertical-align: top;\n",
       "    }\n",
       "\n",
       "    .dataframe thead th {\n",
       "        text-align: right;\n",
       "    }\n",
       "</style>\n",
       "<table border=\"1\" class=\"dataframe\">\n",
       "  <thead>\n",
       "    <tr style=\"text-align: right;\">\n",
       "      <th></th>\n",
       "      <th>one</th>\n",
       "      <th>two</th>\n",
       "      <th>three</th>\n",
       "      <th>flag</th>\n",
       "      <th>foo</th>\n",
       "      <th>one_trunc</th>\n",
       "    </tr>\n",
       "  </thead>\n",
       "  <tbody>\n",
       "    <tr>\n",
       "      <th>a</th>\n",
       "      <td>0.416691</td>\n",
       "      <td>0.0</td>\n",
       "      <td>0.000000</td>\n",
       "      <td>True</td>\n",
       "      <td>bar</td>\n",
       "      <td>0.416691</td>\n",
       "    </tr>\n",
       "    <tr>\n",
       "      <th>b</th>\n",
       "      <td>-0.410008</td>\n",
       "      <td>1.0</td>\n",
       "      <td>-0.410008</td>\n",
       "      <td>False</td>\n",
       "      <td>bar</td>\n",
       "      <td>-0.410008</td>\n",
       "    </tr>\n",
       "    <tr>\n",
       "      <th>c</th>\n",
       "      <td>-0.955765</td>\n",
       "      <td>2.0</td>\n",
       "      <td>-1.911529</td>\n",
       "      <td>False</td>\n",
       "      <td>bar</td>\n",
       "      <td>NaN</td>\n",
       "    </tr>\n",
       "    <tr>\n",
       "      <th>d</th>\n",
       "      <td>0.665014</td>\n",
       "      <td>NaN</td>\n",
       "      <td>NaN</td>\n",
       "      <td>True</td>\n",
       "      <td>bar</td>\n",
       "      <td>NaN</td>\n",
       "    </tr>\n",
       "    <tr>\n",
       "      <th>e</th>\n",
       "      <td>0.225801</td>\n",
       "      <td>NaN</td>\n",
       "      <td>NaN</td>\n",
       "      <td>True</td>\n",
       "      <td>bar</td>\n",
       "      <td>NaN</td>\n",
       "    </tr>\n",
       "  </tbody>\n",
       "</table>\n",
       "</div>"
      ],
      "text/plain": [
       "        one  two     three   flag  foo  one_trunc\n",
       "a  0.416691  0.0  0.000000   True  bar   0.416691\n",
       "b -0.410008  1.0 -0.410008  False  bar  -0.410008\n",
       "c -0.955765  2.0 -1.911529  False  bar        NaN\n",
       "d  0.665014  NaN       NaN   True  bar        NaN\n",
       "e  0.225801  NaN       NaN   True  bar        NaN"
      ]
     },
     "execution_count": 31,
     "metadata": {},
     "output_type": "execute_result"
    }
   ],
   "source": [
    "df[\"three\"] = df[\"one\"] * df[\"two\"]\n",
    "df[\"flag\"] = df[\"one\"] > 0\n",
    "df[\"foo\"] = \"bar\" # ajout d'une valeur scalaire: la valeur est répliquée pour tous les index\n",
    "df[\"one_trunc\"] = df[\"one\"][:2] # ajout d'une série d'index différent: la colonne est complétée avec des \"NaN\" pour tous les index qui ne sont pas dans la série\n",
    "df"
   ]
  },
  {
   "cell_type": "code",
   "execution_count": 33,
   "id": "8557770b",
   "metadata": {},
   "outputs": [
    {
     "data": {
      "text/plain": [
       "a    0.416691\n",
       "b   -0.410008\n",
       "c   -0.955765\n",
       "d    0.665014\n",
       "e    0.225801\n",
       "Name: one, dtype: float64"
      ]
     },
     "execution_count": 33,
     "metadata": {},
     "output_type": "execute_result"
    }
   ],
   "source": [
    "# les colonnes peuvent être également accédées dans un style \"attribut\"\n",
    "df.one"
   ]
  },
  {
   "cell_type": "markdown",
   "id": "f7c88aa7",
   "metadata": {},
   "source": [
    "### Différents types d'indexation\n",
    "Voir sur le site de Pandas [un petit résumé](https://pandas.pydata.org/docs/user_guide/dsintro.html#indexing-selection) et aussi un [chapitre plus approfondi sur l'indexation](https://pandas.pydata.org/docs/user_guide/indexing.html) (pour les accros seulement)"
   ]
  },
  {
   "cell_type": "code",
   "execution_count": 34,
   "id": "c3d68862",
   "metadata": {},
   "outputs": [
    {
     "data": {
      "text/html": [
       "<div>\n",
       "<style scoped>\n",
       "    .dataframe tbody tr th:only-of-type {\n",
       "        vertical-align: middle;\n",
       "    }\n",
       "\n",
       "    .dataframe tbody tr th {\n",
       "        vertical-align: top;\n",
       "    }\n",
       "\n",
       "    .dataframe thead th {\n",
       "        text-align: right;\n",
       "    }\n",
       "</style>\n",
       "<table border=\"1\" class=\"dataframe\">\n",
       "  <thead>\n",
       "    <tr style=\"text-align: right;\">\n",
       "      <th></th>\n",
       "      <th>one</th>\n",
       "      <th>two</th>\n",
       "      <th>three</th>\n",
       "      <th>flag</th>\n",
       "      <th>foo</th>\n",
       "      <th>one_trunc</th>\n",
       "    </tr>\n",
       "  </thead>\n",
       "  <tbody>\n",
       "    <tr>\n",
       "      <th>a</th>\n",
       "      <td>0.416691</td>\n",
       "      <td>0.0</td>\n",
       "      <td>0.000000</td>\n",
       "      <td>True</td>\n",
       "      <td>bar</td>\n",
       "      <td>0.416691</td>\n",
       "    </tr>\n",
       "    <tr>\n",
       "      <th>b</th>\n",
       "      <td>-0.410008</td>\n",
       "      <td>1.0</td>\n",
       "      <td>-0.410008</td>\n",
       "      <td>False</td>\n",
       "      <td>bar</td>\n",
       "      <td>-0.410008</td>\n",
       "    </tr>\n",
       "    <tr>\n",
       "      <th>c</th>\n",
       "      <td>-0.955765</td>\n",
       "      <td>2.0</td>\n",
       "      <td>-1.911529</td>\n",
       "      <td>False</td>\n",
       "      <td>bar</td>\n",
       "      <td>NaN</td>\n",
       "    </tr>\n",
       "    <tr>\n",
       "      <th>d</th>\n",
       "      <td>0.665014</td>\n",
       "      <td>NaN</td>\n",
       "      <td>NaN</td>\n",
       "      <td>True</td>\n",
       "      <td>bar</td>\n",
       "      <td>NaN</td>\n",
       "    </tr>\n",
       "    <tr>\n",
       "      <th>e</th>\n",
       "      <td>0.225801</td>\n",
       "      <td>NaN</td>\n",
       "      <td>NaN</td>\n",
       "      <td>True</td>\n",
       "      <td>bar</td>\n",
       "      <td>NaN</td>\n",
       "    </tr>\n",
       "  </tbody>\n",
       "</table>\n",
       "</div>"
      ],
      "text/plain": [
       "        one  two     three   flag  foo  one_trunc\n",
       "a  0.416691  0.0  0.000000   True  bar   0.416691\n",
       "b -0.410008  1.0 -0.410008  False  bar  -0.410008\n",
       "c -0.955765  2.0 -1.911529  False  bar        NaN\n",
       "d  0.665014  NaN       NaN   True  bar        NaN\n",
       "e  0.225801  NaN       NaN   True  bar        NaN"
      ]
     },
     "execution_count": 34,
     "metadata": {},
     "output_type": "execute_result"
    }
   ],
   "source": [
    "df"
   ]
  },
  {
   "cell_type": "code",
   "execution_count": 37,
   "id": "a4bd07ff",
   "metadata": {},
   "outputs": [
    {
     "data": {
      "text/plain": [
       "(a    0.416691\n",
       " b   -0.410008\n",
       " c   -0.955765\n",
       " d    0.665014\n",
       " e    0.225801\n",
       " Name: one, dtype: float64,\n",
       "         one  two     three   flag  foo  one_trunc\n",
       " b -0.410008  1.0 -0.410008  False  bar  -0.410008\n",
       " c -0.955765  2.0 -1.911529  False  bar        NaN)"
      ]
     },
     "execution_count": 37,
     "metadata": {},
     "output_type": "execute_result"
    }
   ],
   "source": [
    "# on a vu les notations suivantes, qui comportent une dose d'ambiguïté\n",
    "# car selon le type de l'objet fourni on récupère des colonnes ou des lignes\n",
    "df['one'], df[1:3]"
   ]
  },
  {
   "cell_type": "markdown",
   "id": "e67c80db",
   "metadata": {},
   "source": [
    "Pandas fournit également des selecteurs `.loc` et `.iloc` qui permettent de selectionner ds lignes ou des colonnes de manière explicite. `.loc` permet la selection par étiquettes, et `.iloc` permet la selection par position. Avec un seul argument, ils permettent de faire de la selection sur les lignes"
   ]
  },
  {
   "cell_type": "code",
   "execution_count": 53,
   "id": "1bd75951",
   "metadata": {},
   "outputs": [
    {
     "data": {
      "text/plain": [
       "one          0.416691\n",
       "two                 0\n",
       "three               0\n",
       "flag             True\n",
       "foo               bar\n",
       "one_trunc    0.416691\n",
       "Name: a, dtype: object"
      ]
     },
     "execution_count": 53,
     "metadata": {},
     "output_type": "execute_result"
    }
   ],
   "source": [
    "df.iloc[0] # la première ligne"
   ]
  },
  {
   "cell_type": "code",
   "execution_count": 50,
   "id": "955deff8",
   "metadata": {},
   "outputs": [
    {
     "data": {
      "text/html": [
       "<div>\n",
       "<style scoped>\n",
       "    .dataframe tbody tr th:only-of-type {\n",
       "        vertical-align: middle;\n",
       "    }\n",
       "\n",
       "    .dataframe tbody tr th {\n",
       "        vertical-align: top;\n",
       "    }\n",
       "\n",
       "    .dataframe thead th {\n",
       "        text-align: right;\n",
       "    }\n",
       "</style>\n",
       "<table border=\"1\" class=\"dataframe\">\n",
       "  <thead>\n",
       "    <tr style=\"text-align: right;\">\n",
       "      <th></th>\n",
       "      <th>one</th>\n",
       "      <th>two</th>\n",
       "      <th>three</th>\n",
       "      <th>flag</th>\n",
       "      <th>foo</th>\n",
       "      <th>one_trunc</th>\n",
       "    </tr>\n",
       "  </thead>\n",
       "  <tbody>\n",
       "    <tr>\n",
       "      <th>b</th>\n",
       "      <td>-0.410008</td>\n",
       "      <td>1.0</td>\n",
       "      <td>-0.410008</td>\n",
       "      <td>False</td>\n",
       "      <td>bar</td>\n",
       "      <td>-0.410008</td>\n",
       "    </tr>\n",
       "    <tr>\n",
       "      <th>c</th>\n",
       "      <td>-0.955765</td>\n",
       "      <td>2.0</td>\n",
       "      <td>-1.911529</td>\n",
       "      <td>False</td>\n",
       "      <td>bar</td>\n",
       "      <td>NaN</td>\n",
       "    </tr>\n",
       "    <tr>\n",
       "      <th>d</th>\n",
       "      <td>0.665014</td>\n",
       "      <td>NaN</td>\n",
       "      <td>NaN</td>\n",
       "      <td>True</td>\n",
       "      <td>bar</td>\n",
       "      <td>NaN</td>\n",
       "    </tr>\n",
       "  </tbody>\n",
       "</table>\n",
       "</div>"
      ],
      "text/plain": [
       "        one  two     three   flag  foo  one_trunc\n",
       "b -0.410008  1.0 -0.410008  False  bar  -0.410008\n",
       "c -0.955765  2.0 -1.911529  False  bar        NaN\n",
       "d  0.665014  NaN       NaN   True  bar        NaN"
      ]
     },
     "execution_count": 50,
     "metadata": {},
     "output_type": "execute_result"
    }
   ],
   "source": [
    "df.iloc[1:-1] # toutes les lignes sauf la première et la dernière\n"
   ]
  },
  {
   "cell_type": "code",
   "execution_count": 57,
   "id": "d5569493",
   "metadata": {},
   "outputs": [
    {
     "data": {
      "text/html": [
       "<div>\n",
       "<style scoped>\n",
       "    .dataframe tbody tr th:only-of-type {\n",
       "        vertical-align: middle;\n",
       "    }\n",
       "\n",
       "    .dataframe tbody tr th {\n",
       "        vertical-align: top;\n",
       "    }\n",
       "\n",
       "    .dataframe thead th {\n",
       "        text-align: right;\n",
       "    }\n",
       "</style>\n",
       "<table border=\"1\" class=\"dataframe\">\n",
       "  <thead>\n",
       "    <tr style=\"text-align: right;\">\n",
       "      <th></th>\n",
       "      <th>one</th>\n",
       "      <th>two</th>\n",
       "      <th>three</th>\n",
       "      <th>flag</th>\n",
       "      <th>foo</th>\n",
       "      <th>one_trunc</th>\n",
       "    </tr>\n",
       "  </thead>\n",
       "  <tbody>\n",
       "    <tr>\n",
       "      <th>a</th>\n",
       "      <td>1.000000</td>\n",
       "      <td>1.0</td>\n",
       "      <td>1.000000</td>\n",
       "      <td>1</td>\n",
       "      <td>1</td>\n",
       "      <td>1.000000</td>\n",
       "    </tr>\n",
       "    <tr>\n",
       "      <th>b</th>\n",
       "      <td>-0.410008</td>\n",
       "      <td>1.0</td>\n",
       "      <td>-0.410008</td>\n",
       "      <td>False</td>\n",
       "      <td>bar</td>\n",
       "      <td>-0.410008</td>\n",
       "    </tr>\n",
       "    <tr>\n",
       "      <th>c</th>\n",
       "      <td>-0.955765</td>\n",
       "      <td>2.0</td>\n",
       "      <td>-1.911529</td>\n",
       "      <td>False</td>\n",
       "      <td>bar</td>\n",
       "      <td>NaN</td>\n",
       "    </tr>\n",
       "    <tr>\n",
       "      <th>d</th>\n",
       "      <td>0.665014</td>\n",
       "      <td>NaN</td>\n",
       "      <td>NaN</td>\n",
       "      <td>True</td>\n",
       "      <td>bar</td>\n",
       "      <td>NaN</td>\n",
       "    </tr>\n",
       "    <tr>\n",
       "      <th>e</th>\n",
       "      <td>0.225801</td>\n",
       "      <td>NaN</td>\n",
       "      <td>NaN</td>\n",
       "      <td>True</td>\n",
       "      <td>bar</td>\n",
       "      <td>NaN</td>\n",
       "    </tr>\n",
       "  </tbody>\n",
       "</table>\n",
       "</div>"
      ],
      "text/plain": [
       "        one  two     three   flag  foo  one_trunc\n",
       "a  1.000000  1.0  1.000000      1    1   1.000000\n",
       "b -0.410008  1.0 -0.410008  False  bar  -0.410008\n",
       "c -0.955765  2.0 -1.911529  False  bar        NaN\n",
       "d  0.665014  NaN       NaN   True  bar        NaN\n",
       "e  0.225801  NaN       NaN   True  bar        NaN"
      ]
     },
     "execution_count": 57,
     "metadata": {},
     "output_type": "execute_result"
    }
   ],
   "source": [
    "df.loc['a'] = 1\n",
    "df"
   ]
  },
  {
   "cell_type": "code",
   "execution_count": 52,
   "id": "cde34a89",
   "metadata": {},
   "outputs": [
    {
     "data": {
      "text/html": [
       "<div>\n",
       "<style scoped>\n",
       "    .dataframe tbody tr th:only-of-type {\n",
       "        vertical-align: middle;\n",
       "    }\n",
       "\n",
       "    .dataframe tbody tr th {\n",
       "        vertical-align: top;\n",
       "    }\n",
       "\n",
       "    .dataframe thead th {\n",
       "        text-align: right;\n",
       "    }\n",
       "</style>\n",
       "<table border=\"1\" class=\"dataframe\">\n",
       "  <thead>\n",
       "    <tr style=\"text-align: right;\">\n",
       "      <th></th>\n",
       "      <th>one</th>\n",
       "      <th>two</th>\n",
       "      <th>three</th>\n",
       "      <th>flag</th>\n",
       "      <th>foo</th>\n",
       "      <th>one_trunc</th>\n",
       "    </tr>\n",
       "  </thead>\n",
       "  <tbody>\n",
       "    <tr>\n",
       "      <th>b</th>\n",
       "      <td>-0.410008</td>\n",
       "      <td>1.0</td>\n",
       "      <td>-0.410008</td>\n",
       "      <td>False</td>\n",
       "      <td>bar</td>\n",
       "      <td>-0.410008</td>\n",
       "    </tr>\n",
       "    <tr>\n",
       "      <th>c</th>\n",
       "      <td>-0.955765</td>\n",
       "      <td>2.0</td>\n",
       "      <td>-1.911529</td>\n",
       "      <td>False</td>\n",
       "      <td>bar</td>\n",
       "      <td>NaN</td>\n",
       "    </tr>\n",
       "    <tr>\n",
       "      <th>d</th>\n",
       "      <td>0.665014</td>\n",
       "      <td>NaN</td>\n",
       "      <td>NaN</td>\n",
       "      <td>True</td>\n",
       "      <td>bar</td>\n",
       "      <td>NaN</td>\n",
       "    </tr>\n",
       "  </tbody>\n",
       "</table>\n",
       "</div>"
      ],
      "text/plain": [
       "        one  two     three   flag  foo  one_trunc\n",
       "b -0.410008  1.0 -0.410008  False  bar  -0.410008\n",
       "c -0.955765  2.0 -1.911529  False  bar        NaN\n",
       "d  0.665014  NaN       NaN   True  bar        NaN"
      ]
     },
     "execution_count": 52,
     "metadata": {},
     "output_type": "execute_result"
    }
   ],
   "source": [
    "df.loc['b':'d'] # on peut faire des slices sur les étiquettes"
   ]
  },
  {
   "cell_type": "code",
   "execution_count": 55,
   "id": "a2540a27",
   "metadata": {},
   "outputs": [
    {
     "data": {
      "text/html": [
       "<div>\n",
       "<style scoped>\n",
       "    .dataframe tbody tr th:only-of-type {\n",
       "        vertical-align: middle;\n",
       "    }\n",
       "\n",
       "    .dataframe tbody tr th {\n",
       "        vertical-align: top;\n",
       "    }\n",
       "\n",
       "    .dataframe thead th {\n",
       "        text-align: right;\n",
       "    }\n",
       "</style>\n",
       "<table border=\"1\" class=\"dataframe\">\n",
       "  <thead>\n",
       "    <tr style=\"text-align: right;\">\n",
       "      <th></th>\n",
       "      <th>two</th>\n",
       "      <th>three</th>\n",
       "    </tr>\n",
       "  </thead>\n",
       "  <tbody>\n",
       "    <tr>\n",
       "      <th>a</th>\n",
       "      <td>0.0</td>\n",
       "      <td>0.000000</td>\n",
       "    </tr>\n",
       "    <tr>\n",
       "      <th>b</th>\n",
       "      <td>1.0</td>\n",
       "      <td>-0.410008</td>\n",
       "    </tr>\n",
       "    <tr>\n",
       "      <th>c</th>\n",
       "      <td>2.0</td>\n",
       "      <td>-1.911529</td>\n",
       "    </tr>\n",
       "    <tr>\n",
       "      <th>d</th>\n",
       "      <td>NaN</td>\n",
       "      <td>NaN</td>\n",
       "    </tr>\n",
       "  </tbody>\n",
       "</table>\n",
       "</div>"
      ],
      "text/plain": [
       "   two     three\n",
       "a  0.0  0.000000\n",
       "b  1.0 -0.410008\n",
       "c  2.0 -1.911529\n",
       "d  NaN       NaN"
      ]
     },
     "execution_count": 55,
     "metadata": {},
     "output_type": "execute_result"
    }
   ],
   "source": [
    "df.iloc[:-1,1:3] # toutes les lignes sauf la dernière, colonnes de position 1 et 2"
   ]
  },
  {
   "cell_type": "code",
   "execution_count": 58,
   "id": "66527d6d",
   "metadata": {},
   "outputs": [
    {
     "data": {
      "text/html": [
       "<div>\n",
       "<style scoped>\n",
       "    .dataframe tbody tr th:only-of-type {\n",
       "        vertical-align: middle;\n",
       "    }\n",
       "\n",
       "    .dataframe tbody tr th {\n",
       "        vertical-align: top;\n",
       "    }\n",
       "\n",
       "    .dataframe thead th {\n",
       "        text-align: right;\n",
       "    }\n",
       "</style>\n",
       "<table border=\"1\" class=\"dataframe\">\n",
       "  <thead>\n",
       "    <tr style=\"text-align: right;\">\n",
       "      <th></th>\n",
       "      <th>one</th>\n",
       "      <th>three</th>\n",
       "    </tr>\n",
       "  </thead>\n",
       "  <tbody>\n",
       "    <tr>\n",
       "      <th>a</th>\n",
       "      <td>1.000000</td>\n",
       "      <td>1.000000</td>\n",
       "    </tr>\n",
       "    <tr>\n",
       "      <th>b</th>\n",
       "      <td>-0.410008</td>\n",
       "      <td>-0.410008</td>\n",
       "    </tr>\n",
       "    <tr>\n",
       "      <th>c</th>\n",
       "      <td>-0.955765</td>\n",
       "      <td>-1.911529</td>\n",
       "    </tr>\n",
       "    <tr>\n",
       "      <th>d</th>\n",
       "      <td>0.665014</td>\n",
       "      <td>NaN</td>\n",
       "    </tr>\n",
       "    <tr>\n",
       "      <th>e</th>\n",
       "      <td>0.225801</td>\n",
       "      <td>NaN</td>\n",
       "    </tr>\n",
       "  </tbody>\n",
       "</table>\n",
       "</div>"
      ],
      "text/plain": [
       "        one     three\n",
       "a  1.000000  1.000000\n",
       "b -0.410008 -0.410008\n",
       "c -0.955765 -1.911529\n",
       "d  0.665014       NaN\n",
       "e  0.225801       NaN"
      ]
     },
     "execution_count": 58,
     "metadata": {},
     "output_type": "execute_result"
    }
   ],
   "source": [
    "df.loc[:, ['one','three']] # toutes les lignes, colonnes nommées 'one' et 'three'"
   ]
  },
  {
   "cell_type": "markdown",
   "id": "a886e85a",
   "metadata": {},
   "source": [
    "A partir de ces quelques exemples, on peut imaginer d'autres manières de faire de la sous-selection. A titre d'exercice, on pourra jouer avec loc, iloc et la selection type 'dictionnaire' ou 'attribut' pour comprendre de qui se passe"
   ]
  },
  {
   "cell_type": "code",
   "execution_count": null,
   "id": "21f63a55",
   "metadata": {},
   "outputs": [],
   "source": []
  },
  {
   "cell_type": "markdown",
   "id": "07ed1b54",
   "metadata": {},
   "source": [
    "### Opérations arithmétiques sur les DataFrames\n",
    "Lors des opérations arithmétiques sur les DataFrames, un alignement est réalisé sur les colonnes et l'index (les trous sont encore bouchés avec des NaNs)"
   ]
  },
  {
   "cell_type": "code",
   "execution_count": 69,
   "id": "9488a0de",
   "metadata": {},
   "outputs": [
    {
     "data": {
      "text/html": [
       "<div>\n",
       "<style scoped>\n",
       "    .dataframe tbody tr th:only-of-type {\n",
       "        vertical-align: middle;\n",
       "    }\n",
       "\n",
       "    .dataframe tbody tr th {\n",
       "        vertical-align: top;\n",
       "    }\n",
       "\n",
       "    .dataframe thead th {\n",
       "        text-align: right;\n",
       "    }\n",
       "</style>\n",
       "<table border=\"1\" class=\"dataframe\">\n",
       "  <thead>\n",
       "    <tr style=\"text-align: right;\">\n",
       "      <th></th>\n",
       "      <th>A</th>\n",
       "      <th>B</th>\n",
       "      <th>C</th>\n",
       "      <th>D</th>\n",
       "    </tr>\n",
       "  </thead>\n",
       "  <tbody>\n",
       "    <tr>\n",
       "      <th>0</th>\n",
       "      <td>-1.013198</td>\n",
       "      <td>-1.765871</td>\n",
       "      <td>-1.804353</td>\n",
       "      <td>NaN</td>\n",
       "    </tr>\n",
       "    <tr>\n",
       "      <th>1</th>\n",
       "      <td>-0.405243</td>\n",
       "      <td>1.364002</td>\n",
       "      <td>-0.486454</td>\n",
       "      <td>NaN</td>\n",
       "    </tr>\n",
       "    <tr>\n",
       "      <th>2</th>\n",
       "      <td>0.326544</td>\n",
       "      <td>1.280962</td>\n",
       "      <td>0.812998</td>\n",
       "      <td>NaN</td>\n",
       "    </tr>\n",
       "    <tr>\n",
       "      <th>3</th>\n",
       "      <td>-1.309108</td>\n",
       "      <td>-0.498785</td>\n",
       "      <td>0.740398</td>\n",
       "      <td>NaN</td>\n",
       "    </tr>\n",
       "    <tr>\n",
       "      <th>4</th>\n",
       "      <td>0.767859</td>\n",
       "      <td>-0.082967</td>\n",
       "      <td>-1.852336</td>\n",
       "      <td>NaN</td>\n",
       "    </tr>\n",
       "    <tr>\n",
       "      <th>5</th>\n",
       "      <td>-0.841801</td>\n",
       "      <td>2.194490</td>\n",
       "      <td>-0.677188</td>\n",
       "      <td>NaN</td>\n",
       "    </tr>\n",
       "    <tr>\n",
       "      <th>6</th>\n",
       "      <td>-2.044946</td>\n",
       "      <td>0.989666</td>\n",
       "      <td>-1.021501</td>\n",
       "      <td>NaN</td>\n",
       "    </tr>\n",
       "    <tr>\n",
       "      <th>7</th>\n",
       "      <td>NaN</td>\n",
       "      <td>NaN</td>\n",
       "      <td>NaN</td>\n",
       "      <td>NaN</td>\n",
       "    </tr>\n",
       "    <tr>\n",
       "      <th>8</th>\n",
       "      <td>NaN</td>\n",
       "      <td>NaN</td>\n",
       "      <td>NaN</td>\n",
       "      <td>NaN</td>\n",
       "    </tr>\n",
       "    <tr>\n",
       "      <th>9</th>\n",
       "      <td>NaN</td>\n",
       "      <td>NaN</td>\n",
       "      <td>NaN</td>\n",
       "      <td>NaN</td>\n",
       "    </tr>\n",
       "  </tbody>\n",
       "</table>\n",
       "</div>"
      ],
      "text/plain": [
       "          A         B         C   D\n",
       "0 -1.013198 -1.765871 -1.804353 NaN\n",
       "1 -0.405243  1.364002 -0.486454 NaN\n",
       "2  0.326544  1.280962  0.812998 NaN\n",
       "3 -1.309108 -0.498785  0.740398 NaN\n",
       "4  0.767859 -0.082967 -1.852336 NaN\n",
       "5 -0.841801  2.194490 -0.677188 NaN\n",
       "6 -2.044946  0.989666 -1.021501 NaN\n",
       "7       NaN       NaN       NaN NaN\n",
       "8       NaN       NaN       NaN NaN\n",
       "9       NaN       NaN       NaN NaN"
      ]
     },
     "execution_count": 69,
     "metadata": {},
     "output_type": "execute_result"
    }
   ],
   "source": [
    "df = pd.DataFrame(np.random.randn(10, 4), columns=[\"A\", \"B\", \"C\", \"D\"])\n",
    "df2 = pd.DataFrame(np.random.randn(7, 3), columns=[\"A\", \"B\", \"C\"])\n",
    "df + df2"
   ]
  },
  {
   "cell_type": "markdown",
   "id": "0b662c0a",
   "metadata": {},
   "source": [
    "Les opérations avec des scalaires sont intuitives, à titre d'exercice regarder ce que donnent des opérations comme `df*5 + 2`, `df**2`, `1/df`, etc..."
   ]
  },
  {
   "cell_type": "markdown",
   "id": "62b76950",
   "metadata": {},
   "source": [
    "### Opérateurs booléens\n",
    "Les opérateurs booléens `&`, `|`, `^`, `~` (en python respectivement les `et`, `ou`, `xor`, et `not` \"bitwise\") sont utilisé en Pandas pour éxécuter l'opérateur booléens correspondant élément par élément sur des Series ou des DataFrames (note : les opérateurs python `and`, `or`, `xor`,`not` ne fonctionneront pas)"
   ]
  },
  {
   "cell_type": "code",
   "execution_count": 62,
   "id": "2e279627",
   "metadata": {},
   "outputs": [
    {
     "data": {
      "text/html": [
       "<div>\n",
       "<style scoped>\n",
       "    .dataframe tbody tr th:only-of-type {\n",
       "        vertical-align: middle;\n",
       "    }\n",
       "\n",
       "    .dataframe tbody tr th {\n",
       "        vertical-align: top;\n",
       "    }\n",
       "\n",
       "    .dataframe thead th {\n",
       "        text-align: right;\n",
       "    }\n",
       "</style>\n",
       "<table border=\"1\" class=\"dataframe\">\n",
       "  <thead>\n",
       "    <tr style=\"text-align: right;\">\n",
       "      <th></th>\n",
       "      <th>A</th>\n",
       "      <th>B</th>\n",
       "      <th>C</th>\n",
       "      <th>D</th>\n",
       "    </tr>\n",
       "  </thead>\n",
       "  <tbody>\n",
       "    <tr>\n",
       "      <th>0</th>\n",
       "      <td>True</td>\n",
       "      <td>True</td>\n",
       "      <td>True</td>\n",
       "      <td>True</td>\n",
       "    </tr>\n",
       "    <tr>\n",
       "      <th>1</th>\n",
       "      <td>False</td>\n",
       "      <td>False</td>\n",
       "      <td>True</td>\n",
       "      <td>False</td>\n",
       "    </tr>\n",
       "    <tr>\n",
       "      <th>2</th>\n",
       "      <td>False</td>\n",
       "      <td>True</td>\n",
       "      <td>True</td>\n",
       "      <td>True</td>\n",
       "    </tr>\n",
       "    <tr>\n",
       "      <th>3</th>\n",
       "      <td>False</td>\n",
       "      <td>True</td>\n",
       "      <td>False</td>\n",
       "      <td>False</td>\n",
       "    </tr>\n",
       "    <tr>\n",
       "      <th>4</th>\n",
       "      <td>True</td>\n",
       "      <td>True</td>\n",
       "      <td>False</td>\n",
       "      <td>True</td>\n",
       "    </tr>\n",
       "    <tr>\n",
       "      <th>5</th>\n",
       "      <td>False</td>\n",
       "      <td>False</td>\n",
       "      <td>False</td>\n",
       "      <td>True</td>\n",
       "    </tr>\n",
       "    <tr>\n",
       "      <th>6</th>\n",
       "      <td>False</td>\n",
       "      <td>False</td>\n",
       "      <td>True</td>\n",
       "      <td>False</td>\n",
       "    </tr>\n",
       "    <tr>\n",
       "      <th>7</th>\n",
       "      <td>False</td>\n",
       "      <td>True</td>\n",
       "      <td>False</td>\n",
       "      <td>False</td>\n",
       "    </tr>\n",
       "    <tr>\n",
       "      <th>8</th>\n",
       "      <td>False</td>\n",
       "      <td>False</td>\n",
       "      <td>False</td>\n",
       "      <td>False</td>\n",
       "    </tr>\n",
       "    <tr>\n",
       "      <th>9</th>\n",
       "      <td>False</td>\n",
       "      <td>False</td>\n",
       "      <td>False</td>\n",
       "      <td>False</td>\n",
       "    </tr>\n",
       "  </tbody>\n",
       "</table>\n",
       "</div>"
      ],
      "text/plain": [
       "       A      B      C      D\n",
       "0   True   True   True   True\n",
       "1  False  False   True  False\n",
       "2  False   True   True   True\n",
       "3  False   True  False  False\n",
       "4   True   True  False   True\n",
       "5  False  False  False   True\n",
       "6  False  False   True  False\n",
       "7  False   True  False  False\n",
       "8  False  False  False  False\n",
       "9  False  False  False  False"
      ]
     },
     "execution_count": 62,
     "metadata": {},
     "output_type": "execute_result"
    }
   ],
   "source": [
    "(df > 0) & (df < 1)"
   ]
  },
  {
   "cell_type": "markdown",
   "id": "f2df59cb",
   "metadata": {},
   "source": [
    "Les selecteurs `.loc`, `.iloc` et le simples crochets peuvent prendre un tableau de booléens en argument, c'est très utile pour effectuer de la sous-selection sur un tableau (sur une condition sur une colonne par exemple)"
   ]
  },
  {
   "cell_type": "code",
   "execution_count": 67,
   "id": "2ee9a735",
   "metadata": {},
   "outputs": [
    {
     "data": {
      "text/html": [
       "<div>\n",
       "<style scoped>\n",
       "    .dataframe tbody tr th:only-of-type {\n",
       "        vertical-align: middle;\n",
       "    }\n",
       "\n",
       "    .dataframe tbody tr th {\n",
       "        vertical-align: top;\n",
       "    }\n",
       "\n",
       "    .dataframe thead th {\n",
       "        text-align: right;\n",
       "    }\n",
       "</style>\n",
       "<table border=\"1\" class=\"dataframe\">\n",
       "  <thead>\n",
       "    <tr style=\"text-align: right;\">\n",
       "      <th></th>\n",
       "      <th>A</th>\n",
       "      <th>B</th>\n",
       "      <th>C</th>\n",
       "      <th>D</th>\n",
       "    </tr>\n",
       "  </thead>\n",
       "  <tbody>\n",
       "    <tr>\n",
       "      <th>0</th>\n",
       "      <td>0.314553</td>\n",
       "      <td>0.276528</td>\n",
       "      <td>0.435306</td>\n",
       "      <td>0.045790</td>\n",
       "    </tr>\n",
       "    <tr>\n",
       "      <th>3</th>\n",
       "      <td>1.287878</td>\n",
       "      <td>0.363303</td>\n",
       "      <td>2.316084</td>\n",
       "      <td>1.119845</td>\n",
       "    </tr>\n",
       "    <tr>\n",
       "      <th>4</th>\n",
       "      <td>0.464474</td>\n",
       "      <td>0.065444</td>\n",
       "      <td>-0.088346</td>\n",
       "      <td>0.308462</td>\n",
       "    </tr>\n",
       "    <tr>\n",
       "      <th>6</th>\n",
       "      <td>1.870065</td>\n",
       "      <td>-1.298766</td>\n",
       "      <td>0.966560</td>\n",
       "      <td>1.667073</td>\n",
       "    </tr>\n",
       "  </tbody>\n",
       "</table>\n",
       "</div>"
      ],
      "text/plain": [
       "          A         B         C         D\n",
       "0  0.314553  0.276528  0.435306  0.045790\n",
       "3  1.287878  0.363303  2.316084  1.119845\n",
       "4  0.464474  0.065444 -0.088346  0.308462\n",
       "6  1.870065 -1.298766  0.966560  1.667073"
      ]
     },
     "execution_count": 67,
     "metadata": {},
     "output_type": "execute_result"
    }
   ],
   "source": [
    "df[(df['A'] >0) & (df.B < 0.5)]"
   ]
  },
  {
   "cell_type": "markdown",
   "id": "056b3175",
   "metadata": {},
   "source": [
    "Sujets non traités mais potentiellements utiles:\n",
    "- la méthode assign [voir la doc](https://pandas.pydata.org/docs/user_guide/dsintro.html#assigning-new-columns-in-method-chains)\n",
    "- [transposition](https://pandas.pydata.org/docs/user_guide/dsintro.html#transposing)\n"
   ]
  }
 ],
 "metadata": {
  "kernelspec": {
   "display_name": "Python 3",
   "language": "python",
   "name": "python3"
  },
  "language_info": {
   "codemirror_mode": {
    "name": "ipython",
    "version": 3
   },
   "file_extension": ".py",
   "mimetype": "text/x-python",
   "name": "python",
   "nbconvert_exporter": "python",
   "pygments_lexer": "ipython3",
   "version": "3.6.9"
  }
 },
 "nbformat": 4,
 "nbformat_minor": 5
}
