{
 "cells": [
  {
   "cell_type": "code",
   "execution_count": null,
   "id": "a98ece3c",
   "metadata": {},
   "outputs": [],
   "source": [
    "import numpy as np\n",
    "import pandas as pd"
   ]
  },
  {
   "cell_type": "markdown",
   "id": "a03e7e76",
   "metadata": {},
   "source": [
    "# Création de Series et Dataframes pandas\n",
    "Ce sont les deux principaux types stockant des données en pandas. Ils sont constitués de données (un tableau numpy, une liste, etc...) et d'un index (par exemple des dates, un index numérique, ou toute liste d'éléments python arbitraires).\n",
    "\n",
    "Le principe fondamental de pandas est que ***toutes les opérations impliquant des Series ou des Dataframes respecteront l'alignement des index*** (sauf mention explicite de l'utilisateur). "
   ]
  },
  {
   "cell_type": "markdown",
   "id": "79985902",
   "metadata": {},
   "source": [
    "## Création de Series"
   ]
  },
  {
   "cell_type": "code",
   "execution_count": null,
   "id": "95e34c7e",
   "metadata": {},
   "outputs": [],
   "source": [
    "# à partir d'un tableau numpy et d'un index\n",
    "data = np.random.randn(5)\n",
    "print(\"Les données, un tableau numpy: %s\"%data)\n",
    "\n",
    "index = [\"a\", \"b\", \"c\", \"d\", \"e\"]\n",
    "\n",
    "s0 = pd.Series(data, index=index)\n",
    "s0"
   ]
  },
  {
   "cell_type": "code",
   "execution_count": null,
   "id": "707b0d86",
   "metadata": {},
   "outputs": [],
   "source": [
    "# à partir d'un dictionnaire\n",
    "s1 = pd.Series({\"b\": 1, \"a\": 0, \"c\": 2})\n",
    "s1"
   ]
  },
  {
   "cell_type": "code",
   "execution_count": null,
   "id": "1e1ff672",
   "metadata": {},
   "outputs": [],
   "source": [
    "# à partir d'un scalaire et d'un index\n",
    "s2 = pd.Series(5.0, index=[\"a\", \"b\", \"c\", \"d\", \"e\"])\n",
    "s2"
   ]
  },
  {
   "cell_type": "markdown",
   "id": "c3bff601",
   "metadata": {},
   "source": [
    "### Accès aux éléments d'une Series"
   ]
  },
  {
   "cell_type": "code",
   "execution_count": null,
   "id": "af9ae310",
   "metadata": {},
   "outputs": [],
   "source": [
    "# accès par valeur de l'index\n",
    "s0[\"a\"]"
   ]
  },
  {
   "cell_type": "code",
   "execution_count": null,
   "id": "570c1868",
   "metadata": {},
   "outputs": [],
   "source": [
    "# Par position dans la série (attention si l'index est entier c'est\n",
    "# l'index qui sera utilisé)\n",
    "s0[0]"
   ]
  },
  {
   "cell_type": "code",
   "execution_count": null,
   "id": "66bfba21",
   "metadata": {},
   "outputs": [],
   "source": [
    "# on peut faire du slicing sur les positions\n",
    "s0[:3]"
   ]
  },
  {
   "cell_type": "code",
   "execution_count": null,
   "id": "a15b5da4",
   "metadata": {},
   "outputs": [],
   "source": [
    "# pour un sous-ensemble d'index\n",
    "s0[[\"a\",\"b\",\"d\"]]"
   ]
  },
  {
   "cell_type": "markdown",
   "id": "078fa17f",
   "metadata": {},
   "source": [
    "### Opérations sur les Series\n",
    "Les opérations sur les séries respectent toujours l'alignement des index"
   ]
  },
  {
   "cell_type": "code",
   "execution_count": null,
   "id": "82ae8279",
   "metadata": {},
   "outputs": [],
   "source": [
    "s0+s1 # noter l'utilisation de NaN quand l'opération ne peut être réalisée\n",
    "      # faute de donnée dans les deux séries"
   ]
  },
  {
   "cell_type": "markdown",
   "id": "7e396c98",
   "metadata": {},
   "source": [
    "Les fonctions définies (\"ufunc\") par numpy peuvent toutes être appliquées aux Series (et aux Dataframes voir plus loin), voir leur [documentation sur le site de numpy](https://numpy.org/doc/stable/reference/ufuncs.html#available-ufuncs)"
   ]
  },
  {
   "cell_type": "code",
   "execution_count": null,
   "id": "c9153192",
   "metadata": {},
   "outputs": [],
   "source": [
    "np.exp(s0)"
   ]
  },
  {
   "cell_type": "code",
   "execution_count": null,
   "id": "6e2d4a79",
   "metadata": {},
   "outputs": [],
   "source": [
    "s0 > 0"
   ]
  },
  {
   "cell_type": "markdown",
   "id": "04e654ef",
   "metadata": {},
   "source": [
    "En exercice, tester le résultat de ```s[1:]+s[:-1]```, jouer avec l'ensemble des opérations disponibles `+`,`*`,`**` (puissance), voir la doc pour plus d'informations."
   ]
  },
  {
   "cell_type": "markdown",
   "id": "51ba9f85",
   "metadata": {},
   "source": [
    "## Création de Dataframes"
   ]
  },
  {
   "cell_type": "code",
   "execution_count": null,
   "id": "b9dd4a2c",
   "metadata": {},
   "outputs": [],
   "source": [
    "# à partir d'un dictionnaire de séries\n",
    "d = {\n",
    "     \"one\": s0,\n",
    "     \"two\": s1\n",
    " }\n",
    "df = pd.DataFrame(d)\n",
    "df"
   ]
  },
  {
   "cell_type": "markdown",
   "id": "57c3cf93",
   "metadata": {},
   "source": [
    "Un DataFrame est un tableau composé d'un ensemble de Series possédant un index commun (l'index du DataFrame obtenu précédemment est la réunion des index des séries passées en argument de la méthode de création)"
   ]
  },
  {
   "cell_type": "code",
   "execution_count": null,
   "id": "a32ea7fa",
   "metadata": {},
   "outputs": [],
   "source": [
    "# on peut aussi créer un DF à partir de listes\n",
    "# dans ce cas, par souci de cohérence, les listes doivent être de la même longueur\n",
    "pd.DataFrame({\"one\": [1.0, 2.0, 3.0, 4.0], \"two\": [4.0, 3.0, 2.0, 1.0]}, index=[\"a\",\"b\",\"c\",\"d\"])"
   ]
  },
  {
   "cell_type": "code",
   "execution_count": null,
   "id": "0f2d1013",
   "metadata": {},
   "outputs": [],
   "source": [
    "# sans argument index un index numérique est créé automatiquement\n",
    "pd.DataFrame({\"one\": [1.0, 2.0, 3.0, 4.0], \"two\": [4.0, 3.0, 2.0, 1.0]})"
   ]
  },
  {
   "cell_type": "code",
   "execution_count": null,
   "id": "54c7f9d5",
   "metadata": {},
   "outputs": [],
   "source": [
    "# depuis une liste de dictionnaires\n",
    "pd.DataFrame([{\"a\": 1, \"b\": 2}, {\"a\": 5, \"b\": 10, \"c\": 20}])"
   ]
  },
  {
   "cell_type": "markdown",
   "id": "2a12e96c",
   "metadata": {},
   "source": [
    "D'autres methodes de création existent, se référer au [chapitre correspondant du guide utilisateur](https://pandas.pydata.org/docs/user_guide/dsintro.html#dataframe)"
   ]
  },
  {
   "cell_type": "markdown",
   "id": "7ba4730e",
   "metadata": {},
   "source": [
    "### Ajout, modification, suppression de colonnes"
   ]
  },
  {
   "cell_type": "code",
   "execution_count": null,
   "id": "1f8c3850",
   "metadata": {},
   "outputs": [],
   "source": [
    "# Pour rappel\n",
    "df"
   ]
  },
  {
   "cell_type": "markdown",
   "id": "d35761fc",
   "metadata": {},
   "source": [
    "Les opérations d'ajout, modification, suppression fonctionnent sémantiquement comme les opérations correspondantes pour les dictionnaires python"
   ]
  },
  {
   "cell_type": "code",
   "execution_count": null,
   "id": "73477ad1",
   "metadata": {},
   "outputs": [],
   "source": [
    "# Accès à une colonne : on récupère une série\n",
    "df[\"one\"]"
   ]
  },
  {
   "cell_type": "code",
   "execution_count": null,
   "id": "828dcb8c",
   "metadata": {},
   "outputs": [],
   "source": [
    "df[\"three\"] = df[\"one\"] * df[\"two\"]\n",
    "df[\"flag\"] = df[\"one\"] > 0\n",
    "df[\"foo\"] = \"bar\" # ajout d'une valeur scalaire: la valeur est répliquée pour tous les index\n",
    "df[\"one_trunc\"] = df[\"one\"][:2] # ajout d'une série d'index différent: la colonne est complétée avec des \"NaN\" pour tous les index qui ne sont pas dans la série\n",
    "df"
   ]
  },
  {
   "cell_type": "code",
   "execution_count": null,
   "id": "8557770b",
   "metadata": {},
   "outputs": [],
   "source": [
    "# les colonnes peuvent être également accédées dans un style \"attribut\"\n",
    "df.one"
   ]
  },
  {
   "cell_type": "markdown",
   "id": "f7c88aa7",
   "metadata": {},
   "source": [
    "### Différents types d'indexation\n",
    "Voir sur le site de Pandas [un petit résumé](https://pandas.pydata.org/docs/user_guide/dsintro.html#indexing-selection) et aussi un [chapitre plus approfondi sur l'indexation](https://pandas.pydata.org/docs/user_guide/indexing.html) (pour les accros seulement)"
   ]
  },
  {
   "cell_type": "code",
   "execution_count": null,
   "id": "c3d68862",
   "metadata": {},
   "outputs": [],
   "source": [
    "df"
   ]
  },
  {
   "cell_type": "code",
   "execution_count": null,
   "id": "a4bd07ff",
   "metadata": {},
   "outputs": [],
   "source": [
    "# on a vu les notations suivantes, qui comportent une dose d'ambiguïté\n",
    "# car selon le type de l'objet fourni on récupère des colonnes ou des lignes\n",
    "df['one'], df[1:3]"
   ]
  },
  {
   "cell_type": "markdown",
   "id": "e67c80db",
   "metadata": {},
   "source": [
    "Pandas fournit également des selecteurs `.loc` et `.iloc` qui permettent de selectionner ds lignes ou des colonnes de manière explicite. `.loc` permet la selection par étiquettes, et `.iloc` permet la selection par position. Avec un seul argument, ils permettent de faire de la selection sur les lignes"
   ]
  },
  {
   "cell_type": "code",
   "execution_count": null,
   "id": "1bd75951",
   "metadata": {},
   "outputs": [],
   "source": [
    "df.iloc[0] # la première ligne"
   ]
  },
  {
   "cell_type": "code",
   "execution_count": null,
   "id": "955deff8",
   "metadata": {},
   "outputs": [],
   "source": [
    "df.iloc[1:-1] # toutes les lignes sauf la première et la dernière\n"
   ]
  },
  {
   "cell_type": "code",
   "execution_count": null,
   "id": "d5569493",
   "metadata": {},
   "outputs": [],
   "source": [
    "df.loc['a'] = 1\n",
    "df"
   ]
  },
  {
   "cell_type": "code",
   "execution_count": null,
   "id": "cde34a89",
   "metadata": {},
   "outputs": [],
   "source": [
    "df.loc['b':'d'] # on peut faire des slices sur les étiquettes"
   ]
  },
  {
   "cell_type": "code",
   "execution_count": null,
   "id": "a2540a27",
   "metadata": {},
   "outputs": [],
   "source": [
    "df.iloc[:-1,1:3] # toutes les lignes sauf la dernière, colonnes de position 1 et 2"
   ]
  },
  {
   "cell_type": "code",
   "execution_count": null,
   "id": "66527d6d",
   "metadata": {},
   "outputs": [],
   "source": [
    "df.loc[:, ['one','three']] # toutes les lignes, colonnes nommées 'one' et 'three'"
   ]
  },
  {
   "cell_type": "markdown",
   "id": "a886e85a",
   "metadata": {},
   "source": [
    "A partir de ces quelques exemples, on peut imaginer d'autres manières de faire de la sous-selection. A titre d'exercice, on pourra jouer avec loc, iloc et la selection type 'dictionnaire' ou 'attribut' pour comprendre de qui se passe"
   ]
  },
  {
   "cell_type": "code",
   "execution_count": null,
   "id": "21f63a55",
   "metadata": {},
   "outputs": [],
   "source": []
  },
  {
   "cell_type": "markdown",
   "id": "07ed1b54",
   "metadata": {},
   "source": [
    "### Opérations arithmétiques sur les DataFrames\n",
    "Lors des opérations arithmétiques sur les DataFrames, un alignement est réalisé sur les colonnes et l'index (les trous sont encore bouchés avec des NaNs)"
   ]
  },
  {
   "cell_type": "code",
   "execution_count": null,
   "id": "9488a0de",
   "metadata": {},
   "outputs": [],
   "source": [
    "df = pd.DataFrame(np.random.randn(10, 4), columns=[\"A\", \"B\", \"C\", \"D\"])\n",
    "df2 = pd.DataFrame(np.random.randn(7, 3), columns=[\"A\", \"B\", \"C\"])\n",
    "df + df2"
   ]
  },
  {
   "cell_type": "markdown",
   "id": "0b662c0a",
   "metadata": {},
   "source": [
    "Les opérations avec des scalaires sont intuitives, à titre d'exercice regarder ce que donnent des opérations comme `df*5 + 2`, `df**2`, `1/df`, etc..."
   ]
  },
  {
   "cell_type": "markdown",
   "id": "62b76950",
   "metadata": {},
   "source": [
    "### Opérateurs booléens\n",
    "Les opérateurs booléens `&`, `|`, `^`, `~` (en python respectivement les `et`, `ou`, `xor`, et `not` \"bitwise\") sont utilisé en Pandas pour éxécuter l'opérateur booléens correspondant élément par élément sur des Series ou des DataFrames (note : les opérateurs python `and`, `or`, `xor`,`not` ne fonctionneront pas)"
   ]
  },
  {
   "cell_type": "code",
   "execution_count": null,
   "id": "2e279627",
   "metadata": {},
   "outputs": [],
   "source": [
    "(df > 0) & (df < 1)"
   ]
  },
  {
   "cell_type": "markdown",
   "id": "f2df59cb",
   "metadata": {},
   "source": [
    "Les selecteurs `.loc`, `.iloc` et le simples crochets peuvent prendre un tableau de booléens en argument, c'est très utile pour effectuer de la sous-selection sur un tableau (sur une condition sur une colonne par exemple)"
   ]
  },
  {
   "cell_type": "code",
   "execution_count": null,
   "id": "2ee9a735",
   "metadata": {},
   "outputs": [],
   "source": [
    "df[(df['A'] >0) & (df.B < 0.5)]"
   ]
  },
  {
   "cell_type": "markdown",
   "id": "056b3175",
   "metadata": {},
   "source": [
    "Sujets non traités mais potentiellements utiles:\n",
    "- la méthode assign [voir la doc](https://pandas.pydata.org/docs/user_guide/dsintro.html#assigning-new-columns-in-method-chains)\n",
    "- [transposition](https://pandas.pydata.org/docs/user_guide/dsintro.html#transposing)\n"
   ]
  },
  {
   "cell_type": "code",
   "execution_count": null,
   "id": "bda0ce14",
   "metadata": {},
   "outputs": [],
   "source": []
  }
 ],
 "metadata": {
  "kernelspec": {
   "display_name": "Python 3",
   "language": "python",
   "name": "python3"
  },
  "language_info": {
   "codemirror_mode": {
    "name": "ipython",
    "version": 3
   },
   "file_extension": ".py",
   "mimetype": "text/x-python",
   "name": "python",
   "nbconvert_exporter": "python",
   "pygments_lexer": "ipython3",
   "version": "3.6.9"
  }
 },
 "nbformat": 4,
 "nbformat_minor": 5
}
